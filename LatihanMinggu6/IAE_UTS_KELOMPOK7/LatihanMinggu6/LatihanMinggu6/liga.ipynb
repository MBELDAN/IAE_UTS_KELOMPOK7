{
 "cells": [
  {
   "cell_type": "code",
   "execution_count": 1,
   "metadata": {},
   "outputs": [
    {
     "name": "stdout",
     "output_type": "stream",
     "text": [
      "[{'team': {'name': 'Arsenal', 'logo': 'https://a.espncdn.com/i/teamlogos/soccer/500/359.png', 'abbreviation': 'ARS'}, 'stats': {'wins': 23, 'losses': 5, 'ties': 5, 'gamesPlayed': 33, 'goalsFor': 77, 'goalsAgainst': 26, 'points': 74, 'rank': 1, 'goalDifference': 51}}, {'team': {'name': 'Liverpool', 'logo': 'https://a.espncdn.com/i/teamlogos/soccer/500/364.png', 'abbreviation': 'LIV'}, 'stats': {'wins': 22, 'losses': 3, 'ties': 8, 'gamesPlayed': 33, 'goalsFor': 75, 'goalsAgainst': 32, 'points': 74, 'rank': 2, 'goalDifference': 43}}, {'team': {'name': 'Manchester City', 'logo': 'https://a.espncdn.com/i/teamlogos/soccer/500/382.png', 'abbreviation': 'MNC'}, 'stats': {'wins': 22, 'losses': 3, 'ties': 7, 'gamesPlayed': 32, 'goalsFor': 76, 'goalsAgainst': 32, 'points': 73, 'rank': 3, 'goalDifference': 44}}, {'team': {'name': 'Aston Villa', 'logo': 'https://a.espncdn.com/i/teamlogos/soccer/500/362.png', 'abbreviation': 'AVL'}, 'stats': {'wins': 20, 'losses': 8, 'ties': 6, 'gamesPlayed': 34, 'goalsFor': 71, 'goalsAgainst': 50, 'points': 66, 'rank': 4, 'goalDifference': 21}}, {'team': {'name': 'Tottenham Hotspur', 'logo': 'https://a.espncdn.com/i/teamlogos/soccer/500/367.png', 'abbreviation': 'TOT'}, 'stats': {'wins': 18, 'losses': 8, 'ties': 6, 'gamesPlayed': 32, 'goalsFor': 65, 'goalsAgainst': 49, 'points': 60, 'rank': 5, 'goalDifference': 16}}, {'team': {'name': 'Newcastle United', 'logo': 'https://a.espncdn.com/i/teamlogos/soccer/500/361.png', 'abbreviation': 'NEW'}, 'stats': {'wins': 15, 'losses': 12, 'ties': 5, 'gamesPlayed': 32, 'goalsFor': 69, 'goalsAgainst': 52, 'points': 50, 'rank': 6, 'goalDifference': 17}}, {'team': {'name': 'Manchester United', 'logo': 'https://a.espncdn.com/i/teamlogos/soccer/500/360.png', 'abbreviation': 'MAN'}, 'stats': {'wins': 15, 'losses': 12, 'ties': 5, 'gamesPlayed': 32, 'goalsFor': 47, 'goalsAgainst': 48, 'points': 50, 'rank': 7, 'goalDifference': -1}}, {'team': {'name': 'West Ham United', 'logo': 'https://a.espncdn.com/i/teamlogos/soccer/500/371.png', 'abbreviation': 'WHU'}, 'stats': {'wins': 13, 'losses': 12, 'ties': 9, 'gamesPlayed': 34, 'goalsFor': 54, 'goalsAgainst': 63, 'points': 48, 'rank': 8, 'goalDifference': -9}}, {'team': {'name': 'Chelsea', 'logo': 'https://a.espncdn.com/i/teamlogos/soccer/500/363.png', 'abbreviation': 'CHE'}, 'stats': {'wins': 13, 'losses': 10, 'ties': 8, 'gamesPlayed': 31, 'goalsFor': 61, 'goalsAgainst': 52, 'points': 47, 'rank': 9, 'goalDifference': 9}}, {'team': {'name': 'Brighton & Hove Albion', 'logo': 'https://a.espncdn.com/i/teamlogos/soccer/500/331.png', 'abbreviation': 'BHA'}, 'stats': {'wins': 11, 'losses': 10, 'ties': 11, 'gamesPlayed': 32, 'goalsFor': 52, 'goalsAgainst': 50, 'points': 44, 'rank': 10, 'goalDifference': 2}}, {'team': {'name': 'Wolverhampton Wanderers', 'logo': 'https://a.espncdn.com/i/teamlogos/soccer/500/380.png', 'abbreviation': 'WOL'}, 'stats': {'wins': 12, 'losses': 14, 'ties': 7, 'gamesPlayed': 33, 'goalsFor': 46, 'goalsAgainst': 53, 'points': 43, 'rank': 11, 'goalDifference': -7}}, {'team': {'name': 'Fulham', 'logo': 'https://a.espncdn.com/i/teamlogos/soccer/500/370.png', 'abbreviation': 'FUL'}, 'stats': {'wins': 12, 'losses': 16, 'ties': 6, 'gamesPlayed': 34, 'goalsFor': 50, 'goalsAgainst': 54, 'points': 42, 'rank': 12, 'goalDifference': -4}}, {'team': {'name': 'AFC Bournemouth', 'logo': 'https://a.espncdn.com/i/teamlogos/soccer/500/349.png', 'abbreviation': 'BOU'}, 'stats': {'wins': 11, 'losses': 13, 'ties': 9, 'gamesPlayed': 33, 'goalsFor': 48, 'goalsAgainst': 60, 'points': 42, 'rank': 13, 'goalDifference': -12}}, {'team': {'name': 'Crystal Palace', 'logo': 'https://a.espncdn.com/i/teamlogos/soccer/500/384.png', 'abbreviation': 'CRY'}, 'stats': {'wins': 9, 'losses': 15, 'ties': 9, 'gamesPlayed': 33, 'goalsFor': 42, 'goalsAgainst': 56, 'points': 36, 'rank': 14, 'goalDifference': -14}}, {'team': {'name': 'Brentford', 'logo': 'https://a.espncdn.com/i/teamlogos/soccer/500/337.png', 'abbreviation': 'BRE'}, 'stats': {'wins': 9, 'losses': 17, 'ties': 8, 'gamesPlayed': 34, 'goalsFor': 52, 'goalsAgainst': 59, 'points': 35, 'rank': 15, 'goalDifference': -7}}, {'team': {'name': 'Everton', 'logo': 'https://a.espncdn.com/i/teamlogos/soccer/500/368.png', 'abbreviation': 'EVE'}, 'stats': {'wins': 10, 'losses': 15, 'ties': 8, 'gamesPlayed': 33, 'goalsFor': 34, 'goalsAgainst': 48, 'points': 30, 'rank': 16, 'goalDifference': -14}}, {'team': {'name': 'Nottingham Forest', 'logo': 'https://a.espncdn.com/i/teamlogos/soccer/500/393.png', 'abbreviation': 'NFO'}, 'stats': {'wins': 7, 'losses': 18, 'ties': 9, 'gamesPlayed': 34, 'goalsFor': 42, 'goalsAgainst': 60, 'points': 26, 'rank': 17, 'goalDifference': -18}}, {'team': {'name': 'Luton Town', 'logo': 'https://a.espncdn.com/i/teamlogos/soccer/500/301.png', 'abbreviation': 'LTN'}, 'stats': {'wins': 6, 'losses': 21, 'ties': 7, 'gamesPlayed': 34, 'goalsFor': 47, 'goalsAgainst': 75, 'points': 25, 'rank': 18, 'goalDifference': -28}}, {'team': {'name': 'Burnley', 'logo': 'https://a.espncdn.com/i/teamlogos/soccer/500/379.png', 'abbreviation': 'BUR'}, 'stats': {'wins': 5, 'losses': 21, 'ties': 8, 'gamesPlayed': 34, 'goalsFor': 37, 'goalsAgainst': 69, 'points': 23, 'rank': 19, 'goalDifference': -32}}, {'team': {'name': 'Sheffield United', 'logo': 'https://a.espncdn.com/i/teamlogos/soccer/500/398.png', 'abbreviation': 'SHU'}, 'stats': {'wins': 3, 'losses': 23, 'ties': 7, 'gamesPlayed': 33, 'goalsFor': 31, 'goalsAgainst': 88, 'points': 16, 'rank': 20, 'goalDifference': -57}}]\n"
     ]
    }
   ],
   "source": [
    "import requests\n",
    "\n",
    "url = \"https://premier-league-standings1.p.rapidapi.com/\"\n",
    "\n",
    "headers = {\n",
    "\t\"X-RapidAPI-Key\": \"3ea9211632msha0b011d18b77c37p1d60a0jsne2e0ffb1a939\",\n",
    "\t\"X-RapidAPI-Host\": \"premier-league-standings1.p.rapidapi.com\"\n",
    "}\n",
    "\n",
    "response = requests.get(url, headers=headers)\n",
    "\n",
    "print(response.json())"
   ]
  },
  {
   "cell_type": "code",
   "execution_count": 5,
   "metadata": {},
   "outputs": [
    {
     "data": {
      "text/plain": [
       "list"
      ]
     },
     "execution_count": 5,
     "metadata": {},
     "output_type": "execute_result"
    }
   ],
   "source": [
    "type(response.json())"
   ]
  },
  {
   "cell_type": "code",
   "execution_count": 1,
   "metadata": {},
   "outputs": [
    {
     "ename": "NameError",
     "evalue": "name 'response' is not defined",
     "output_type": "error",
     "traceback": [
      "\u001b[0;31m---------------------------------------------------------------------------\u001b[0m",
      "\u001b[0;31mNameError\u001b[0m                                 Traceback (most recent call last)",
      "Cell \u001b[0;32mIn[1], line 1\u001b[0m\n\u001b[0;32m----> 1\u001b[0m premierleague \u001b[38;5;241m=\u001b[39m \u001b[43mresponse\u001b[49m\u001b[38;5;241m.\u001b[39mjson()\n",
      "\u001b[0;31mNameError\u001b[0m: name 'response' is not defined"
     ]
    }
   ],
   "source": [
    "premierleague = response.json()"
   ]
  },
  {
   "cell_type": "code",
   "execution_count": 8,
   "metadata": {},
   "outputs": [
    {
     "name": "stdout",
     "output_type": "stream",
     "text": [
      "{'team': {'name': 'Liverpool', 'logo': 'https://a.espncdn.com/i/teamlogos/soccer/500/364.png', 'abbreviation': 'LIV'}, 'stats': {'wins': 20, 'losses': 2, 'ties': 7, 'gamesPlayed': 29, 'goalsFor': 67, 'goalsAgainst': 27, 'points': 67, 'rank': 1, 'goalDifference': 40}}\n",
      "{'team': {'name': 'Arsenal', 'logo': 'https://a.espncdn.com/i/teamlogos/soccer/500/359.png', 'abbreviation': 'ARS'}, 'stats': {'wins': 20, 'losses': 4, 'ties': 5, 'gamesPlayed': 29, 'goalsFor': 70, 'goalsAgainst': 24, 'points': 65, 'rank': 2, 'goalDifference': 46}}\n",
      "{'team': {'name': 'Manchester City', 'logo': 'https://a.espncdn.com/i/teamlogos/soccer/500/382.png', 'abbreviation': 'MNC'}, 'stats': {'wins': 19, 'losses': 3, 'ties': 7, 'gamesPlayed': 29, 'goalsFor': 63, 'goalsAgainst': 28, 'points': 64, 'rank': 3, 'goalDifference': 35}}\n",
      "{'team': {'name': 'Aston Villa', 'logo': 'https://a.espncdn.com/i/teamlogos/soccer/500/362.png', 'abbreviation': 'AVL'}, 'stats': {'wins': 18, 'losses': 7, 'ties': 5, 'gamesPlayed': 30, 'goalsFor': 62, 'goalsAgainst': 42, 'points': 59, 'rank': 4, 'goalDifference': 20}}\n",
      "{'team': {'name': 'Tottenham Hotspur', 'logo': 'https://a.espncdn.com/i/teamlogos/soccer/500/367.png', 'abbreviation': 'TOT'}, 'stats': {'wins': 17, 'losses': 7, 'ties': 6, 'gamesPlayed': 30, 'goalsFor': 62, 'goalsAgainst': 44, 'points': 57, 'rank': 5, 'goalDifference': 18}}\n",
      "{'team': {'name': 'Manchester United', 'logo': 'https://a.espncdn.com/i/teamlogos/soccer/500/360.png', 'abbreviation': 'MAN'}, 'stats': {'wins': 15, 'losses': 11, 'ties': 3, 'gamesPlayed': 29, 'goalsFor': 40, 'goalsAgainst': 40, 'points': 48, 'rank': 6, 'goalDifference': 0}}\n",
      "{'team': {'name': 'West Ham United', 'logo': 'https://a.espncdn.com/i/teamlogos/soccer/500/371.png', 'abbreviation': 'WHU'}, 'stats': {'wins': 12, 'losses': 10, 'ties': 9, 'gamesPlayed': 31, 'goalsFor': 50, 'goalsAgainst': 55, 'points': 45, 'rank': 7, 'goalDifference': -5}}\n",
      "{'team': {'name': 'Newcastle United', 'logo': 'https://a.espncdn.com/i/teamlogos/soccer/500/361.png', 'abbreviation': 'NEW'}, 'stats': {'wins': 13, 'losses': 12, 'ties': 5, 'gamesPlayed': 30, 'goalsFor': 64, 'goalsAgainst': 52, 'points': 44, 'rank': 8, 'goalDifference': 12}}\n",
      "{'team': {'name': 'Brighton & Hove Albion', 'logo': 'https://a.espncdn.com/i/teamlogos/soccer/500/331.png', 'abbreviation': 'BHA'}, 'stats': {'wins': 11, 'losses': 9, 'ties': 9, 'gamesPlayed': 29, 'goalsFor': 51, 'goalsAgainst': 46, 'points': 42, 'rank': 9, 'goalDifference': 5}}\n",
      "{'team': {'name': 'Wolverhampton Wanderers', 'logo': 'https://a.espncdn.com/i/teamlogos/soccer/500/380.png', 'abbreviation': 'WOL'}, 'stats': {'wins': 12, 'losses': 12, 'ties': 6, 'gamesPlayed': 30, 'goalsFor': 43, 'goalsAgainst': 47, 'points': 42, 'rank': 10, 'goalDifference': -4}}\n",
      "{'team': {'name': 'AFC Bournemouth', 'logo': 'https://a.espncdn.com/i/teamlogos/soccer/500/349.png', 'abbreviation': 'BOU'}, 'stats': {'wins': 11, 'losses': 11, 'ties': 8, 'gamesPlayed': 30, 'goalsFor': 44, 'goalsAgainst': 53, 'points': 41, 'rank': 11, 'goalDifference': -9}}\n",
      "{'team': {'name': 'Chelsea', 'logo': 'https://a.espncdn.com/i/teamlogos/soccer/500/363.png', 'abbreviation': 'CHE'}, 'stats': {'wins': 11, 'losses': 10, 'ties': 7, 'gamesPlayed': 28, 'goalsFor': 49, 'goalsAgainst': 47, 'points': 40, 'rank': 12, 'goalDifference': 2}}\n",
      "{'team': {'name': 'Fulham', 'logo': 'https://a.espncdn.com/i/teamlogos/soccer/500/370.png', 'abbreviation': 'FUL'}, 'stats': {'wins': 11, 'losses': 14, 'ties': 6, 'gamesPlayed': 31, 'goalsFor': 47, 'goalsAgainst': 50, 'points': 39, 'rank': 13, 'goalDifference': -3}}\n",
      "{'team': {'name': 'Crystal Palace', 'logo': 'https://a.espncdn.com/i/teamlogos/soccer/500/384.png', 'abbreviation': 'CRY'}, 'stats': {'wins': 7, 'losses': 14, 'ties': 9, 'gamesPlayed': 30, 'goalsFor': 34, 'goalsAgainst': 50, 'points': 30, 'rank': 14, 'goalDifference': -16}}\n",
      "{'team': {'name': 'Brentford', 'logo': 'https://a.espncdn.com/i/teamlogos/soccer/500/337.png', 'abbreviation': 'BRE'}, 'stats': {'wins': 7, 'losses': 17, 'ties': 6, 'gamesPlayed': 30, 'goalsFor': 42, 'goalsAgainst': 55, 'points': 27, 'rank': 15, 'goalDifference': -13}}\n",
      "{'team': {'name': 'Everton', 'logo': 'https://a.espncdn.com/i/teamlogos/soccer/500/368.png', 'abbreviation': 'EVE'}, 'stats': {'wins': 8, 'losses': 14, 'ties': 8, 'gamesPlayed': 30, 'goalsFor': 31, 'goalsAgainst': 42, 'points': 26, 'rank': 16, 'goalDifference': -11}}\n",
      "{'team': {'name': 'Nottingham Forest', 'logo': 'https://a.espncdn.com/i/teamlogos/soccer/500/393.png', 'abbreviation': 'NFO'}, 'stats': {'wins': 7, 'losses': 16, 'ties': 8, 'gamesPlayed': 31, 'goalsFor': 39, 'goalsAgainst': 53, 'points': 25, 'rank': 17, 'goalDifference': -14}}\n",
      "{'team': {'name': 'Luton Town', 'logo': 'https://a.espncdn.com/i/teamlogos/soccer/500/301.png', 'abbreviation': 'LTN'}, 'stats': {'wins': 5, 'losses': 18, 'ties': 7, 'gamesPlayed': 30, 'goalsFor': 43, 'goalsAgainst': 62, 'points': 22, 'rank': 18, 'goalDifference': -19}}\n",
      "{'team': {'name': 'Burnley', 'logo': 'https://a.espncdn.com/i/teamlogos/soccer/500/379.png', 'abbreviation': 'BUR'}, 'stats': {'wins': 4, 'losses': 20, 'ties': 7, 'gamesPlayed': 31, 'goalsFor': 32, 'goalsAgainst': 66, 'points': 19, 'rank': 19, 'goalDifference': -34}}\n",
      "{'team': {'name': 'Sheffield United', 'logo': 'https://a.espncdn.com/i/teamlogos/soccer/500/398.png', 'abbreviation': 'SHU'}, 'stats': {'wins': 3, 'losses': 20, 'ties': 6, 'gamesPlayed': 29, 'goalsFor': 27, 'goalsAgainst': 77, 'points': 15, 'rank': 20, 'goalDifference': -50}}\n"
     ]
    }
   ],
   "source": [
    "for i in premierleague:\n",
    "    print(i)"
   ]
  },
  {
   "cell_type": "code",
   "execution_count": 12,
   "metadata": {},
   "outputs": [
    {
     "name": "stdout",
     "output_type": "stream",
     "text": [
      "Liverpool 20\n",
      "Arsenal 20\n",
      "Manchester City 19\n",
      "Aston Villa 18\n",
      "Tottenham Hotspur 17\n",
      "Manchester United 15\n",
      "West Ham United 12\n",
      "Newcastle United 13\n",
      "Brighton & Hove Albion 11\n",
      "Wolverhampton Wanderers 12\n",
      "AFC Bournemouth 11\n",
      "Chelsea 11\n",
      "Fulham 11\n",
      "Crystal Palace 7\n",
      "Brentford 7\n",
      "Everton 8\n",
      "Nottingham Forest 7\n",
      "Luton Town 5\n",
      "Burnley 4\n",
      "Sheffield United 3\n"
     ]
    }
   ],
   "source": [
    "for i in premierleague:\n",
    "    print(i['team']['name'], i['stats']['wins'])"
   ]
  }
 ],
 "metadata": {
  "kernelspec": {
   "display_name": "Python 3",
   "language": "python",
   "name": "python3"
  },
  "language_info": {
   "codemirror_mode": {
    "name": "ipython",
    "version": 3
   },
   "file_extension": ".py",
   "mimetype": "text/x-python",
   "name": "python",
   "nbconvert_exporter": "python",
   "pygments_lexer": "ipython3",
   "version": "3.9.6"
  }
 },
 "nbformat": 4,
 "nbformat_minor": 2
}
