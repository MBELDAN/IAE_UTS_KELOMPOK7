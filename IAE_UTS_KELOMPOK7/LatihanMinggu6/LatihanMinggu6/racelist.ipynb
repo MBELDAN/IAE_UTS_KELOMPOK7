{
 "cells": [
  {
   "cell_type": "code",
   "execution_count": 1,
   "metadata": {},
   "outputs": [
    {
     "name": "stdout",
     "output_type": "stream",
     "text": [
      "[{'_id': '6141c76615d27e0de553b9d7', 'race_no': 1, 'track': 'FORMULA 1 GULF AIR BAHRAIN GRAND PRIX 2022', 'date': '2022-03-19T15:00:00.000Z', '__v': 0}, {'_id': '6141ca6915ca4187ab8033aa', 'race_no': 2, 'track': 'FORMULA 1 STC SAUDI ARABIAN GRAND PRIX 2022', 'date': '2022-03-27T17:00:00.000Z', '__v': 0}, {'_id': '6141ca7715ca4187ab8033ac', 'race_no': 3, 'track': 'FORMULA 1 HEINEKEN AUSTRALIAN GRAND PRIX 2022', 'date': '2022-04-10T05:00:00.000Z', '__v': 0}, {'_id': '6141cb0d15ca4187ab8033ae', 'race_no': 4, 'track': \"FORMULA 1 ROLEX GRAN PREMIO DEL MADE IN ITALY E DELL'EMILIA-ROMAGNA 2022\", 'date': '2022-04-23T18:30:00.000Z', '__v': 0}, {'_id': '6141cb1b15ca4187ab8033b0', 'race_no': 5, 'track': 'FORMULA 1 CRYPTO.COM MIAMI GRAND PRIX 2022', 'date': '2022-05-09T19:30:00.000Z', '__v': 0}, {'_id': '6141cb2415ca4187ab8033b2', 'race_no': 6, 'track': 'FORMULA 1 PIRELLI GRAN PREMIO DE ESPAÑA 2022', 'date': '2022-05-22T13:00:00.000Z', '__v': 0}, {'_id': '6141cb3115ca4187ab8033b4', 'race_no': 7, 'track': 'FORMULA 1 GRAND PRIX DE MONACO 2022', 'date': '2022-05-29T13:00:00.000Z', '__v': 0}, {'_id': '6141cb3a15ca4187ab8033b6', 'race_no': 8, 'track': 'FORMULA 1 AZERBAIJAN GRAND PRIX 2022', 'date': '2022-06-12T11:00:00.000Z', '__v': 0}, {'_id': '6141cb4215ca4187ab8033b8', 'race_no': 9, 'track': 'FORMULA 1 GRAND PRIX DU CANADA 2022', 'date': '2022-06-19T18:00:00.000Z', '__v': 0}, {'_id': '6141cb4915ca4187ab8033ba', 'race_no': 10, 'track': 'FORMULA 1 BRITISH GRAND PRIX 2022', 'date': '2022-07-03T14:00:00.000Z', '__v': 0}, {'_id': '6141cb5115ca4187ab8033bc', 'race_no': 11, 'track': 'FORMULA 1 GROSSER PREIS VON ÖSTERREICH 2022', 'date': '2022-07-10T13:00:00.000Z', '__v': 0}, {'_id': '6141cb5a15ca4187ab8033be', 'race_no': 12, 'track': 'FORMULA 1 GRAND PRIX DE FRANCE 2022', 'date': '2022-07-24T13:00:00.000Z', '__v': 0}, {'_id': '6141cb7615ca4187ab8033c0', 'race_no': 13, 'track': 'FORMULA 1 ARAMCO MAGYAR NAGYDÍJ 2022', 'date': '2022-07-31T13:00:00.000Z', '__v': 0}, {'_id': '6141cbff15ca4187ab8033c2', 'race_no': 14, 'track': 'FORMULA 1 ROLEX BELGIAN GRAND PRIX 2022', 'date': '2022-08-28T13:00:00.000Z', '__v': 0}, {'_id': '6141cc0715ca4187ab8033c4', 'race_no': 15, 'track': 'FORMULA 1 HEINEKEN DUTCH GRAND PRIX 2022', 'date': '2022-09-04T13:00:00.000Z', '__v': 0}, {'_id': '6141cc0f15ca4187ab8033c6', 'race_no': 16, 'track': 'FORMULA 1 PIRELLI GRAN PREMIO D’ITALIA 2022', 'date': '2022-09-11T13:00:00.000Z', '__v': 0}, {'_id': '6141cc5815ca4187ab8033c8', 'race_no': 17, 'track': 'FORMULA 1 SINGAPORE GRAND PRIX 2022', 'date': '2022-10-02T11:00:00.000Z', '__v': 0}, {'_id': '6141cc7c15ca4187ab8033ca', 'race_no': 18, 'track': 'FORMULA 1 JAPANESE GRAND PRIX 2022', 'date': '2022-10-09T05:00:00.000Z', '__v': 0}, {'_id': '6141cc8315ca4187ab8033cc', 'race_no': 19, 'track': 'FORMULA 1 ARAMCO UNITED STATES GRAND PRIX 2022', 'date': '2022-10-23T19:00:00.000Z', '__v': 0}, {'_id': '6141cc8c15ca4187ab8033ce', 'race_no': 20, 'track': 'FORMULA 1 GRAN PREMIO DE LA CIUDAD DE MÉXICO 2022', 'date': '2022-10-30T19:00:00.000Z', '__v': 0}, {'_id': '6141cc9315ca4187ab8033d0', 'race_no': 21, 'track': 'FORMULA 1 HEINEKEN GRANDE PRÊMIO DE SÃO PAULO 2022', 'date': '2022-11-13T18:00:00.000Z', '__v': 0}, {'_id': '6141cc9c15ca4187ab8033d2', 'race_no': 22, 'track': 'FORMULA 1 ETIHAD AIRWAYS ABU DHABI GRAND PRIX 2022', 'date': '2022-11-20T13:00:00.000Z', '__v': 0}]\n"
     ]
    }
   ],
   "source": [
    "import requests\n",
    "\n",
    "url = \"https://f1-race-schedule.p.rapidapi.com/api\"\n",
    "\n",
    "headers = {\n",
    "\t\"X-RapidAPI-Key\": \"eea92a9621mshbb5f39383ef16f2p147c78jsn3b2a2ac99577\",\n",
    "\t\"X-RapidAPI-Host\": \"f1-race-schedule.p.rapidapi.com\"\n",
    "}\n",
    "\n",
    "response = requests.get(url, headers=headers)\n",
    "\n",
    "print(response.json())"
   ]
  }
 ],
 "metadata": {
  "kernelspec": {
   "display_name": "Python 3",
   "language": "python",
   "name": "python3"
  },
  "language_info": {
   "codemirror_mode": {
    "name": "ipython",
    "version": 3
   },
   "file_extension": ".py",
   "mimetype": "text/x-python",
   "name": "python",
   "nbconvert_exporter": "python",
   "pygments_lexer": "ipython3",
   "version": "3.12.1"
  }
 },
 "nbformat": 4,
 "nbformat_minor": 2
}
